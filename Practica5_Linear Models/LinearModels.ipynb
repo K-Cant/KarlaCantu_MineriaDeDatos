{
  "nbformat": 4,
  "nbformat_minor": 0,
  "metadata": {
    "colab": {
      "provenance": []
    },
    "kernelspec": {
      "name": "python3",
      "display_name": "Python 3"
    },
    "language_info": {
      "name": "python"
    }
  },
  "cells": [
    {
      "cell_type": "markdown",
      "source": [
        "## Practica 5: Linear Models + correlation"
      ],
      "metadata": {
        "id": "qRRQLZAZAsB_"
      }
    },
    {
      "cell_type": "markdown",
      "source": [
        "Genere un modelo lineal a partir de sus datos, cree los gráficos necesarios y obtenga su puntuación R2."
      ],
      "metadata": {
        "id": "WGJFiijKBAIt"
      }
    },
    {
      "cell_type": "markdown",
      "source": [
        "### Lectura del CSV"
      ],
      "metadata": {
        "id": "dTiMXDz0C1vp"
      }
    },
    {
      "cell_type": "code",
      "execution_count": 19,
      "metadata": {
        "colab": {
          "base_uri": "https://localhost:8080/"
        },
        "collapsed": true,
        "id": "ftAMeFZzAjEj",
        "outputId": "8525fc3b-b5ff-41d8-9780-90d142e5928f"
      },
      "outputs": [
        {
          "output_type": "stream",
          "name": "stdout",
          "text": [
            "<class 'pandas.core.frame.DataFrame'>\n",
            "RangeIndex: 93000 entries, 0 to 92999\n",
            "Data columns (total 14 columns):\n",
            " #   Column           Non-Null Count  Dtype  \n",
            "---  ------           --------------  -----  \n",
            " 0   Booking ID       93000 non-null  object \n",
            " 1   Booking Status   93000 non-null  object \n",
            " 2   Customer ID      93000 non-null  object \n",
            " 3   Vehicle Type     93000 non-null  object \n",
            " 4   Pickup Location  93000 non-null  object \n",
            " 5   Drop Location    93000 non-null  object \n",
            " 6   Avg VTAT         93000 non-null  float64\n",
            " 7   Avg CTAT         93000 non-null  float64\n",
            " 8   Booking Value    93000 non-null  float64\n",
            " 9   Ride Distance    93000 non-null  float64\n",
            " 10  Driver Ratings   93000 non-null  float64\n",
            " 11  Customer Rating  93000 non-null  float64\n",
            " 12  Payment Method   93000 non-null  object \n",
            " 13  Datetime         93000 non-null  object \n",
            "dtypes: float64(6), object(8)\n",
            "memory usage: 9.9+ MB\n"
          ]
        }
      ],
      "source": [
        "import pandas as pd\n",
        "\n",
        "df = pd.read_csv(\"datos_limpios.csv\")\n",
        "df.info()"
      ]
    },
    {
      "cell_type": "markdown",
      "source": [
        "### Modelo lineal"
      ],
      "metadata": {
        "id": "nrw_JXvfDRxB"
      }
    },
    {
      "cell_type": "markdown",
      "source": [
        "Excluimos columnas que no tendrán relevancia futura"
      ],
      "metadata": {
        "id": "Zjv5gv2mEtgE"
      }
    },
    {
      "cell_type": "code",
      "source": [
        "columnas = [\"Booking ID\", \"Booking Status\", \"Customer ID\"]\n",
        "df.drop(columns = columnas, inplace = True)\n",
        "df.info()"
      ],
      "metadata": {
        "colab": {
          "base_uri": "https://localhost:8080/"
        },
        "id": "ydREiv9yEwpJ",
        "outputId": "c0e419d7-386c-48aa-9df2-873c0c3431a6"
      },
      "execution_count": 20,
      "outputs": [
        {
          "output_type": "stream",
          "name": "stdout",
          "text": [
            "<class 'pandas.core.frame.DataFrame'>\n",
            "RangeIndex: 93000 entries, 0 to 92999\n",
            "Data columns (total 11 columns):\n",
            " #   Column           Non-Null Count  Dtype  \n",
            "---  ------           --------------  -----  \n",
            " 0   Vehicle Type     93000 non-null  object \n",
            " 1   Pickup Location  93000 non-null  object \n",
            " 2   Drop Location    93000 non-null  object \n",
            " 3   Avg VTAT         93000 non-null  float64\n",
            " 4   Avg CTAT         93000 non-null  float64\n",
            " 5   Booking Value    93000 non-null  float64\n",
            " 6   Ride Distance    93000 non-null  float64\n",
            " 7   Driver Ratings   93000 non-null  float64\n",
            " 8   Customer Rating  93000 non-null  float64\n",
            " 9   Payment Method   93000 non-null  object \n",
            " 10  Datetime         93000 non-null  object \n",
            "dtypes: float64(6), object(5)\n",
            "memory usage: 7.8+ MB\n"
          ]
        }
      ]
    },
    {
      "cell_type": "markdown",
      "source": [
        "Conversión de datetime a formato correcto"
      ],
      "metadata": {
        "id": "PNAWIyw7iJua"
      }
    },
    {
      "cell_type": "code",
      "source": [
        "df['Datetime'] = pd.to_datetime(df['Datetime'])\n",
        "df['Day'] = df['Datetime'].dt.dayofweek\n",
        "df['Hour'] = df['Datetime'].dt.hour\n",
        "df['Weekend'] = np.where(df['Day'].isin([5, 6]), 1, 0) # 1 -> weekend"
      ],
      "metadata": {
        "id": "cynSeZ41J1XT"
      },
      "execution_count": 21,
      "outputs": []
    },
    {
      "cell_type": "markdown",
      "source": [
        "Creación del Modelo lineal"
      ],
      "metadata": {
        "id": "MRgSeJwnt4R5"
      }
    },
    {
      "cell_type": "code",
      "source": [
        "import numpy as np\n",
        "\n",
        "from sklearn.model_selection import train_test_split\n",
        "from sklearn.linear_model import LinearRegression\n",
        "from sklearn.metrics import r2_score"
      ],
      "metadata": {
        "id": "PF_UMjh7v0XB"
      },
      "execution_count": 22,
      "outputs": []
    },
    {
      "cell_type": "code",
      "source": [
        "def linear_model(df, X_cols_categorical, X_cols_numerical):\n",
        "  X = df[X_cols_categorical + X_cols_numerical]\n",
        "  y = df[\"Booking Value\"]\n",
        "\n",
        "  X_encoded = pd.get_dummies(X, columns=X_cols_categorical, drop_first=True)\n",
        "\n",
        "  X_train, X_test, y_train, y_test = train_test_split(X_encoded, y, test_size=0.2, random_state=42)\n",
        "\n",
        "  model = LinearRegression()\n",
        "  model.fit(X_train, y_train)\n",
        "\n",
        "  y_pred = model.predict(X_test)\n",
        "\n",
        "  return y_test, y_pred"
      ],
      "metadata": {
        "id": "0uQZoD7yDVEA"
      },
      "execution_count": 62,
      "outputs": []
    },
    {
      "cell_type": "code",
      "source": [
        "X_cols_categorical = [\"Vehicle Type\", \"Pickup Location\", \"Drop Location\", \"Day\", \"Hour\", \"Weekend\"]\n",
        "X_cols_numerical = [\"Ride Distance\"]\n",
        "\n",
        "y_test, y_pred = linear_model(X_cols_categorical, X_cols_numerical)\n",
        "\n",
        "print(f\"R2 score: {r2_score(y_test, y_pred):.4f}\")"
      ],
      "metadata": {
        "colab": {
          "base_uri": "https://localhost:8080/"
        },
        "id": "GVCfsUYvt_Uz",
        "outputId": "2b9850cd-965e-4f86-d44a-c55115e788b7"
      },
      "execution_count": 56,
      "outputs": [
        {
          "output_type": "stream",
          "name": "stdout",
          "text": [
            "R2 score: 0.0505\n"
          ]
        }
      ]
    },
    {
      "cell_type": "markdown",
      "source": [
        "Un coeficiente de determinación de 0.05 no es exactamente bueno, así que vamos a cambiar algunas cosas. Por ejemplo, disminuir las variables independientes, eliminando Pickup Location y Drop Location"
      ],
      "metadata": {
        "id": "vaiuqOzOw90R"
      }
    },
    {
      "cell_type": "code",
      "source": [
        "X_cols2_categorical = [\"Vehicle Type\", \"Day\", \"Hour\", \"Weekend\"]\n",
        "X_cols2_numerical = [\"Ride Distance\"]\n",
        "y_test2, y_pred2 = linear_model(df, X_cols2_categorical, X_cols2_numerical)\n",
        "\n",
        "print(f\"R2 score: {r2_score(y_test2, y_pred2):.4f}\")"
      ],
      "metadata": {
        "colab": {
          "base_uri": "https://localhost:8080/"
        },
        "id": "uB74UT-Cxl5A",
        "outputId": "2817dbbc-0101-456f-dd6d-f7119fda781c"
      },
      "execution_count": 57,
      "outputs": [
        {
          "output_type": "stream",
          "name": "stdout",
          "text": [
            "R2 score: 0.0551\n"
          ]
        }
      ]
    },
    {
      "cell_type": "markdown",
      "source": [
        "Si eliminamos Vehicle Type"
      ],
      "metadata": {
        "id": "yzO5h5lozOh_"
      }
    },
    {
      "cell_type": "code",
      "source": [
        "X_cols3_categorical = [\"Day\", \"Hour\", \"Weekend\"]\n",
        "X_cols3_numerical = [\"Ride Distance\"]\n",
        "y_test3, y_pred3 = linear_model(df, X_cols3_categorical, X_cols3_numerical)\n",
        "\n",
        "print(f\"R2 score: {r2_score(y_test3, y_pred3):.4f}\")"
      ],
      "metadata": {
        "colab": {
          "base_uri": "https://localhost:8080/"
        },
        "id": "zQnBAdhJ00P2",
        "outputId": "463a0c0b-fc69-44aa-ee58-a4951e14d878"
      },
      "execution_count": 63,
      "outputs": [
        {
          "output_type": "stream",
          "name": "stdout",
          "text": [
            "R2 score: 0.0553\n"
          ]
        }
      ]
    },
    {
      "cell_type": "markdown",
      "source": [
        "No existe relación lineal."
      ],
      "metadata": {
        "id": "U2VHjDr98S8E"
      }
    },
    {
      "cell_type": "code",
      "source": [
        "import matplotlib.pyplot as plt\n",
        "import seaborn as sns\n",
        "\n",
        "plt.figure(figsize=(8,6))\n",
        "sns.scatterplot(x=y_test, y=y_pred, alpha=0.6)\n",
        "plt.plot([y_test.min(), y_test.max()], [y_test.min(), y_test.max()], color='red', lw=2)\n",
        "\n",
        "plt.xlabel(\"Valores Reales (y_test)\")\n",
        "plt.ylabel(\"Valores Predichos (y_pred)\")\n",
        "plt.grid(True, linestyle='--', alpha=0.7)\n",
        "plt.show()"
      ],
      "metadata": {
        "colab": {
          "base_uri": "https://localhost:8080/",
          "height": 542
        },
        "id": "kpz75cCO8Sm8",
        "outputId": "5e27ede5-22fd-4674-d22b-5ac4faec25d3"
      },
      "execution_count": 70,
      "outputs": [
        {
          "output_type": "display_data",
          "data": {
            "text/plain": [
              "<Figure size 800x600 with 1 Axes>"
            ],
            "image/png": "[encoded data removed]"
          },
          "metadata": {}
        }
      ]
    }
  ]
}