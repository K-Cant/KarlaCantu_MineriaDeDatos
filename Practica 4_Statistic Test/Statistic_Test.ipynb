{
  "nbformat": 4,
  "nbformat_minor": 0,
  "metadata": {
    "colab": {
      "provenance": []
    },
    "kernelspec": {
      "name": "python3",
      "display_name": "Python 3"
    },
    "language_info": {
      "name": "python"
    }
  },
  "cells": [
    {
      "cell_type": "markdown",
      "source": [
        "## Practica 4: Statistic Test"
      ],
      "metadata": {
        "id": "UIuLYgOunqY3"
      }
    },
    {
      "cell_type": "markdown",
      "source": [
        "Demuestre que los datos etiquetados son diferentes mediante la ejecución de ANOVA + prueba T o prueba de Kruskall Wallis.\n"
      ],
      "metadata": {
        "id": "YMH3CN0Infzw"
      }
    },
    {
      "cell_type": "markdown",
      "source": [
        "### Lectura del CSV"
      ],
      "metadata": {
        "id": "vUvJxNxcnsDK"
      }
    },
    {
      "cell_type": "code",
      "source": [
        "import os\n",
        "import pandas as pd\n",
        "\n",
        "df = pd.read_csv(\"datos_limpios.csv\")\n",
        "df.info()"
      ],
      "metadata": {
        "colab": {
          "base_uri": "https://localhost:8080/"
        },
        "id": "9TdpeHVCoO7J",
        "outputId": "4e2125db-2b92-4058-8e12-12afa79b652d"
      },
      "execution_count": 2,
      "outputs": [
        {
          "output_type": "stream",
          "name": "stdout",
          "text": [
            "<class 'pandas.core.frame.DataFrame'>\n",
            "RangeIndex: 93000 entries, 0 to 92999\n",
            "Data columns (total 14 columns):\n",
            " #   Column           Non-Null Count  Dtype  \n",
            "---  ------           --------------  -----  \n",
            " 0   Booking ID       93000 non-null  object \n",
            " 1   Booking Status   93000 non-null  object \n",
            " 2   Customer ID      93000 non-null  object \n",
            " 3   Vehicle Type     93000 non-null  object \n",
            " 4   Pickup Location  93000 non-null  object \n",
            " 5   Drop Location    93000 non-null  object \n",
            " 6   Avg VTAT         93000 non-null  float64\n",
            " 7   Avg CTAT         93000 non-null  float64\n",
            " 8   Booking Value    93000 non-null  float64\n",
            " 9   Ride Distance    93000 non-null  float64\n",
            " 10  Driver Ratings   93000 non-null  float64\n",
            " 11  Customer Rating  93000 non-null  float64\n",
            " 12  Payment Method   93000 non-null  object \n",
            " 13  Datetime         93000 non-null  object \n",
            "dtypes: float64(6), object(8)\n",
            "memory usage: 9.9+ MB\n"
          ]
        }
      ]
    },
    {
      "cell_type": "markdown",
      "source": [
        "### Kruskall Wallis"
      ],
      "metadata": {
        "id": "FuwUTwMDsHmC"
      }
    },
    {
      "cell_type": "markdown",
      "source": [
        "Kruskal Wallis se usa para determinar si las medianas de dos o más grupos provienen de la misma distribución. No se usará ANOVA ya que esta prueba asume supuestos mientras que Kruskal Wallis no asume."
      ],
      "metadata": {
        "id": "qlsRlNntsK4W"
      }
    },
    {
      "cell_type": "markdown",
      "source": [
        "Entonces, nos podemos preguntar lo siguiente:\n",
        "* ¿El valor de las reservas (Booking Value) cambia según el tipo de vehículo (Vehicle Type)?\n",
        "* ¿La distancia recorrida (Ride Distancia) difiere del método de pago (Payment Method)?\n",
        "* ¿El valor de las reservas (Booking Value) cambia según el mes (Datetime)?"
      ],
      "metadata": {
        "id": "hwyw4IJT0Ghx"
      }
    },
    {
      "cell_type": "code",
      "source": [
        "import pandas as pd\n",
        "from scipy.stats import kruskal\n",
        "\n",
        "def Interpretación(p):\n",
        "  if p < 0.05:\n",
        "    print(\"Hay diferencias significativas.\")\n",
        "  else:\n",
        "    print(\"No hay diferencias significativas.\")"
      ],
      "metadata": {
        "id": "Gijk2nKz36pe"
      },
      "execution_count": 18,
      "outputs": []
    },
    {
      "cell_type": "code",
      "source": [
        "cars = [car['Booking Value'].values for booking_value, car in df.groupby('Vehicle Type')]\n",
        "\n",
        "stat, p = kruskal(*cars)\n",
        "print('Statistics=%.3f, p=%.3f' % (stat, p))\n",
        "\n",
        "Interpretación(p)"
      ],
      "metadata": {
        "colab": {
          "base_uri": "https://localhost:8080/"
        },
        "id": "qdDiGmzCz9le",
        "outputId": "c2b1e44e-9a58-4fec-c9a7-b1c35a21f66b"
      },
      "execution_count": 19,
      "outputs": [
        {
          "output_type": "stream",
          "name": "stdout",
          "text": [
            "Statistics=6.597, p=0.360\n",
            "No hay diferencias significativas.\n"
          ]
        }
      ]
    },
    {
      "cell_type": "code",
      "source": [
        "payment = [payment['Ride Distance'].values for ride_distance, payment in df.groupby('Payment Method')]\n",
        "\n",
        "stat, p = kruskal(*payment)\n",
        "print('Statistics=%.3f, p=%.3f' % (stat, p))\n",
        "\n",
        "Interpretación(p)"
      ],
      "metadata": {
        "colab": {
          "base_uri": "https://localhost:8080/"
        },
        "id": "5Vw1BV4342l4",
        "outputId": "18680898-f60b-406d-f8d1-b2cb32d654e4"
      },
      "execution_count": 20,
      "outputs": [
        {
          "output_type": "stream",
          "name": "stdout",
          "text": [
            "Statistics=0.964, p=0.915\n",
            "No hay diferencias significativas.\n"
          ]
        }
      ]
    },
    {
      "cell_type": "code",
      "source": [
        "df['Datetime'] = pd.to_datetime(df['Datetime'])\n",
        "df['Mes'] = df['Datetime'].dt.month\n",
        "\n",
        "date = [date['Booking Value'].values for booking_value, date in df.groupby('Mes')]\n",
        "\n",
        "stat, p = kruskal(*date)\n",
        "print('Statistics=%.3f, p=%.8f' % (stat, p))\n",
        "\n",
        "Interpretación(p)"
      ],
      "metadata": {
        "colab": {
          "base_uri": "https://localhost:8080/"
        },
        "id": "xlPPcEDQ8MTK",
        "outputId": "fb772bac-1931-49df-c910-2b13a49b966c"
      },
      "execution_count": 30,
      "outputs": [
        {
          "output_type": "stream",
          "name": "stdout",
          "text": [
            "Statistics=39.391, p=0.00004545\n",
            "Hay diferencias significativas.\n"
          ]
        }
      ]
    }
  ]
}