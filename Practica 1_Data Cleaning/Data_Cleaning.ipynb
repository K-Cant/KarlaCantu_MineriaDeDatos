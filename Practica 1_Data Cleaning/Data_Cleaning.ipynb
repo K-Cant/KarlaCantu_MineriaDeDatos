{
  "nbformat": 4,
  "nbformat_minor": 0,
  "metadata": {
    "colab": {
      "provenance": []
    },
    "kernelspec": {
      "name": "python3",
      "display_name": "Python 3"
    },
    "language_info": {
      "name": "python"
    }
  },
  "cells": [
    {
      "cell_type": "markdown",
      "source": [
        "### Importe del dataset"
      ],
      "metadata": {
        "id": "ot7-pKQZ5pbw"
      }
    },
    {
      "cell_type": "markdown",
      "source": [
        "\n",
        "\n",
        "---\n",
        "\n"
      ],
      "metadata": {
        "id": "MxTc02VaIqU7"
      }
    },
    {
      "cell_type": "markdown",
      "source": [
        "Dataset sacado de kaggle [\"Uber Data Analytics Dashboard\"](https://www.kaggle.com/datasets/yashdevladdha/uber-ride-analytics-dashboard)"
      ],
      "metadata": {
        "id": "zyKEJ8I16A4E"
      }
    },
    {
      "cell_type": "code",
      "execution_count": 1,
      "metadata": {
        "colab": {
          "base_uri": "https://localhost:8080/"
        },
        "id": "en14UgMx4FxC",
        "outputId": "6e8329cc-8295-4771-ccb2-0c5bc1f1cc0d"
      },
      "outputs": [
        {
          "output_type": "stream",
          "name": "stdout",
          "text": [
            "Path to dataset files: /kaggle/input/uber-ride-analytics-dashboard\n"
          ]
        }
      ],
      "source": [
        "import kagglehub\n",
        "\n",
        "# Download latest version\n",
        "path = kagglehub.dataset_download(\"yashdevladdha/uber-ride-analytics-dashboard\")\n",
        "\n",
        "print(\"Path to dataset files:\", path)"
      ]
    },
    {
      "cell_type": "code",
      "source": [
        "import os\n",
        "import pandas as pd\n",
        "\n",
        "os.listdir(path)\n",
        "df = pd.read_csv(os.path.join(path, \"ncr_ride_bookings.csv\"))"
      ],
      "metadata": {
        "id": "8cQlrhvo4XEu"
      },
      "execution_count": 2,
      "outputs": []
    },
    {
      "cell_type": "markdown",
      "source": [
        "### Visualización de los primeros 5 registros"
      ],
      "metadata": {
        "id": "puWXGCcP8Xmf"
      }
    },
    {
      "cell_type": "markdown",
      "source": [
        "\n",
        "\n",
        "---\n",
        "\n"
      ],
      "metadata": {
        "id": "WXk0LK4zIsOD"
      }
    },
    {
      "cell_type": "code",
      "source": [
        "df.head(5)"
      ],
      "metadata": {
        "colab": {
          "base_uri": "https://localhost:8080/",
          "height": 357
        },
        "id": "mJIWPLxw4Y6G",
        "outputId": "9cc97738-e0d4-4128-da9a-6b7c46e345d0"
      },
      "execution_count": 3,
      "outputs": [
        {
          "output_type": "execute_result",
          "data": {
            "text/plain": [
              "         Date      Time    Booking ID   Booking Status   Customer ID  \\\n",
              "0  2024-03-23  12:29:38  \"CNR5884300\"  No Driver Found  \"CID1982111\"   \n",
              "1  2024-11-29  18:01:39  \"CNR1326809\"       Incomplete  \"CID4604802\"   \n",
              "2  2024-08-23  08:56:10  \"CNR8494506\"        Completed  \"CID9202816\"   \n",
              "3  2024-10-21  17:17:25  \"CNR8906825\"        Completed  \"CID2610914\"   \n",
              "4  2024-09-16  22:08:00  \"CNR1950162\"        Completed  \"CID9933542\"   \n",
              "\n",
              "    Vehicle Type      Pickup Location      Drop Location  Avg VTAT  Avg CTAT  \\\n",
              "0          eBike          Palam Vihar            Jhilmil       NaN       NaN   \n",
              "1       Go Sedan        Shastri Nagar  Gurgaon Sector 56       4.9      14.0   \n",
              "2           Auto              Khandsa      Malviya Nagar      13.4      25.8   \n",
              "3  Premier Sedan  Central Secretariat           Inderlok      13.1      28.5   \n",
              "4           Bike     Ghitorni Village        Khan Market       5.3      19.6   \n",
              "\n",
              "   ...  Reason for cancelling by Customer Cancelled Rides by Driver  \\\n",
              "0  ...                                NaN                       NaN   \n",
              "1  ...                                NaN                       NaN   \n",
              "2  ...                                NaN                       NaN   \n",
              "3  ...                                NaN                       NaN   \n",
              "4  ...                                NaN                       NaN   \n",
              "\n",
              "   Driver Cancellation Reason Incomplete Rides  Incomplete Rides Reason  \\\n",
              "0                         NaN              NaN                      NaN   \n",
              "1                         NaN              1.0        Vehicle Breakdown   \n",
              "2                         NaN              NaN                      NaN   \n",
              "3                         NaN              NaN                      NaN   \n",
              "4                         NaN              NaN                      NaN   \n",
              "\n",
              "  Booking Value  Ride Distance  Driver Ratings  Customer Rating  \\\n",
              "0           NaN            NaN             NaN              NaN   \n",
              "1         237.0           5.73             NaN              NaN   \n",
              "2         627.0          13.58             4.9              4.9   \n",
              "3         416.0          34.02             4.6              5.0   \n",
              "4         737.0          48.21             4.1              4.3   \n",
              "\n",
              "   Payment Method  \n",
              "0             NaN  \n",
              "1             UPI  \n",
              "2      Debit Card  \n",
              "3             UPI  \n",
              "4             UPI  \n",
              "\n",
              "[5 rows x 21 columns]"
            ],
            "text/html": [
              "\n",
              "  <div id=\"df-ec978ef0-f3b8-4c87-998d-ee5e51e7da12\" class=\"colab-df-container\">\n",
              "    <div>\n",
              "<style scoped>\n",
              "    .dataframe tbody tr th:only-of-type {\n",
              "        vertical-align: middle;\n",
              "    }\n",
              "\n",
              "    .dataframe tbody tr th {\n",
              "        vertical-align: top;\n",
              "    }\n",
              "\n",
              "    .dataframe thead th {\n",
              "        text-align: right;\n",
              "    }\n",
              "</style>\n",
              "<table border=\"1\" class=\"dataframe\">\n",
              "  <thead>\n",
              "    <tr style=\"text-align: right;\">\n",
              "      <th></th>\n",
              "      <th>Date</th>\n",
              "      <th>Time</th>\n",
              "      <th>Booking ID</th>\n",
              "      <th>Booking Status</th>\n",
              "      <th>Customer ID</th>\n",
              "      <th>Vehicle Type</th>\n",
              "      <th>Pickup Location</th>\n",
              "      <th>Drop Location</th>\n",
              "      <th>Avg VTAT</th>\n",
              "      <th>Avg CTAT</th>\n",
              "      <th>...</th>\n",
              "      <th>Reason for cancelling by Customer</th>\n",
              "      <th>Cancelled Rides by Driver</th>\n",
              "      <th>Driver Cancellation Reason</th>\n",
              "      <th>Incomplete Rides</th>\n",
              "      <th>Incomplete Rides Reason</th>\n",
              "      <th>Booking Value</th>\n",
              "      <th>Ride Distance</th>\n",
              "      <th>Driver Ratings</th>\n",
              "      <th>Customer Rating</th>\n",
              "      <th>Payment Method</th>\n",
              "    </tr>\n",
              "  </thead>\n",
              "  <tbody>\n",
              "    <tr>\n",
              "      <th>0</th>\n",
              "      <td>2024-03-23</td>\n",
              "      <td>12:29:38</td>\n",
              "      <td>\"CNR5884300\"</td>\n",
              "      <td>No Driver Found</td>\n",
              "      <td>\"CID1982111\"</td>\n",
              "      <td>eBike</td>\n",
              "      <td>Palam Vihar</td>\n",
              "      <td>Jhilmil</td>\n",
              "      <td>NaN</td>\n",
              "      <td>NaN</td>\n",
              "      <td>...</td>\n",
              "      <td>NaN</td>\n",
              "      <td>NaN</td>\n",
              "      <td>NaN</td>\n",
              "      <td>NaN</td>\n",
              "      <td>NaN</td>\n",
              "      <td>NaN</td>\n",
              "      <td>NaN</td>\n",
              "      <td>NaN</td>\n",
              "      <td>NaN</td>\n",
              "      <td>NaN</td>\n",
              "    </tr>\n",
              "    <tr>\n",
              "      <th>1</th>\n",
              "      <td>2024-11-29</td>\n",
              "      <td>18:01:39</td>\n",
              "      <td>\"CNR1326809\"</td>\n",
              "      <td>Incomplete</td>\n",
              "      <td>\"CID4604802\"</td>\n",
              "      <td>Go Sedan</td>\n",
              "      <td>Shastri Nagar</td>\n",
              "      <td>Gurgaon Sector 56</td>\n",
              "      <td>4.9</td>\n",
              "      <td>14.0</td>\n",
              "      <td>...</td>\n",
              "      <td>NaN</td>\n",
              "      <td>NaN</td>\n",
              "      <td>NaN</td>\n",
              "      <td>1.0</td>\n",
              "      <td>Vehicle Breakdown</td>\n",
              "      <td>237.0</td>\n",
              "      <td>5.73</td>\n",
              "      <td>NaN</td>\n",
              "      <td>NaN</td>\n",
              "      <td>UPI</td>\n",
              "    </tr>\n",
              "    <tr>\n",
              "      <th>2</th>\n",
              "      <td>2024-08-23</td>\n",
              "      <td>08:56:10</td>\n",
              "      <td>\"CNR8494506\"</td>\n",
              "      <td>Completed</td>\n",
              "      <td>\"CID9202816\"</td>\n",
              "      <td>Auto</td>\n",
              "      <td>Khandsa</td>\n",
              "      <td>Malviya Nagar</td>\n",
              "      <td>13.4</td>\n",
              "      <td>25.8</td>\n",
              "      <td>...</td>\n",
              "      <td>NaN</td>\n",
              "      <td>NaN</td>\n",
              "      <td>NaN</td>\n",
              "      <td>NaN</td>\n",
              "      <td>NaN</td>\n",
              "      <td>627.0</td>\n",
              "      <td>13.58</td>\n",
              "      <td>4.9</td>\n",
              "      <td>4.9</td>\n",
              "      <td>Debit Card</td>\n",
              "    </tr>\n",
              "    <tr>\n",
              "      <th>3</th>\n",
              "      <td>2024-10-21</td>\n",
              "      <td>17:17:25</td>\n",
              "      <td>\"CNR8906825\"</td>\n",
              "      <td>Completed</td>\n",
              "      <td>\"CID2610914\"</td>\n",
              "      <td>Premier Sedan</td>\n",
              "      <td>Central Secretariat</td>\n",
              "      <td>Inderlok</td>\n",
              "      <td>13.1</td>\n",
              "      <td>28.5</td>\n",
              "      <td>...</td>\n",
              "      <td>NaN</td>\n",
              "      <td>NaN</td>\n",
              "      <td>NaN</td>\n",
              "      <td>NaN</td>\n",
              "      <td>NaN</td>\n",
              "      <td>416.0</td>\n",
              "      <td>34.02</td>\n",
              "      <td>4.6</td>\n",
              "      <td>5.0</td>\n",
              "      <td>UPI</td>\n",
              "    </tr>\n",
              "    <tr>\n",
              "      <th>4</th>\n",
              "      <td>2024-09-16</td>\n",
              "      <td>22:08:00</td>\n",
              "      <td>\"CNR1950162\"</td>\n",
              "      <td>Completed</td>\n",
              "      <td>\"CID9933542\"</td>\n",
              "      <td>Bike</td>\n",
              "      <td>Ghitorni Village</td>\n",
              "      <td>Khan Market</td>\n",
              "      <td>5.3</td>\n",
              "      <td>19.6</td>\n",
              "      <td>...</td>\n",
              "      <td>NaN</td>\n",
              "      <td>NaN</td>\n",
              "      <td>NaN</td>\n",
              "      <td>NaN</td>\n",
              "      <td>NaN</td>\n",
              "      <td>737.0</td>\n",
              "      <td>48.21</td>\n",
              "      <td>4.1</td>\n",
              "      <td>4.3</td>\n",
              "      <td>UPI</td>\n",
              "    </tr>\n",
              "  </tbody>\n",
              "</table>\n",
              "<p>5 rows × 21 columns</p>\n",
              "</div>\n",
              "    <div class=\"colab-df-buttons\">\n",
              "\n",
              "  <div class=\"colab-df-container\">\n",
              "    <button class=\"colab-df-convert\" onclick=\"convertToInteractive('df-ec978ef0-f3b8-4c87-998d-ee5e51e7da12')\"\n",
              "            title=\"Convert this dataframe to an interactive table.\"\n",
              "            style=\"display:none;\">\n",
              "\n",
              "  <svg xmlns=\"http://www.w3.org/2000/svg\" height=\"24px\" viewBox=\"0 -960 960 960\">\n",
              "    <path d=\"M120-120v-720h720v720H120Zm60-500h600v-160H180v160Zm220 220h160v-160H400v160Zm0 220h160v-160H400v160ZM180-400h160v-160H180v160Zm440 0h160v-160H620v160ZM180-180h160v-160H180v160Zm440 0h160v-160H620v160Z\"/>\n",
              "  </svg>\n",
              "    </button>\n",
              "\n",
              "  <style>\n",
              "    .colab-df-container {\n",
              "      display:flex;\n",
              "      gap: 12px;\n",
              "    }\n",
              "\n",
              "    .colab-df-convert {\n",
              "      background-color: #E8F0FE;\n",
              "      border: none;\n",
              "      border-radius: 50%;\n",
              "      cursor: pointer;\n",
              "      display: none;\n",
              "      fill: #1967D2;\n",
              "      height: 32px;\n",
              "      padding: 0 0 0 0;\n",
              "      width: 32px;\n",
              "    }\n",
              "\n",
              "    .colab-df-convert:hover {\n",
              "      background-color: #E2EBFA;\n",
              "      box-shadow: 0px 1px 2px rgba(60, 64, 67, 0.3), 0px 1px 3px 1px rgba(60, 64, 67, 0.15);\n",
              "      fill: #174EA6;\n",
              "    }\n",
              "\n",
              "    .colab-df-buttons div {\n",
              "      margin-bottom: 4px;\n",
              "    }\n",
              "\n",
              "    [theme=dark] .colab-df-convert {\n",
              "      background-color: #3B4455;\n",
              "      fill: #D2E3FC;\n",
              "    }\n",
              "\n",
              "    [theme=dark] .colab-df-convert:hover {\n",
              "      background-color: #434B5C;\n",
              "      box-shadow: 0px 1px 3px 1px rgba(0, 0, 0, 0.15);\n",
              "      filter: drop-shadow(0px 1px 2px rgba(0, 0, 0, 0.3));\n",
              "      fill: #FFFFFF;\n",
              "    }\n",
              "  </style>\n",
              "\n",
              "    <script>\n",
              "      const buttonEl =\n",
              "        document.querySelector('#df-ec978ef0-f3b8-4c87-998d-ee5e51e7da12 button.colab-df-convert');\n",
              "      buttonEl.style.display =\n",
              "        google.colab.kernel.accessAllowed ? 'block' : 'none';\n",
              "\n",
              "      async function convertToInteractive(key) {\n",
              "        const element = document.querySelector('#df-ec978ef0-f3b8-4c87-998d-ee5e51e7da12');\n",
              "        const dataTable =\n",
              "          await google.colab.kernel.invokeFunction('convertToInteractive',\n",
              "                                                    [key], {});\n",
              "        if (!dataTable) return;\n",
              "\n",
              "        const docLinkHtml = 'Like what you see? Visit the ' +\n",
              "          '<a target=\"_blank\" href=https://colab.research.google.com/notebooks/data_table.ipynb>data table notebook</a>'\n",
              "          + ' to learn more about interactive tables.';\n",
              "        element.innerHTML = '';\n",
              "        dataTable['output_type'] = 'display_data';\n",
              "        await google.colab.output.renderOutput(dataTable, element);\n",
              "        const docLink = document.createElement('div');\n",
              "        docLink.innerHTML = docLinkHtml;\n",
              "        element.appendChild(docLink);\n",
              "      }\n",
              "    </script>\n",
              "  </div>\n",
              "\n",
              "\n",
              "    <div id=\"df-45a51e64-0f2b-416b-8fd3-c36adf72804e\">\n",
              "      <button class=\"colab-df-quickchart\" onclick=\"quickchart('df-45a51e64-0f2b-416b-8fd3-c36adf72804e')\"\n",
              "                title=\"Suggest charts\"\n",
              "                style=\"display:none;\">\n",
              "\n",
              "<svg xmlns=\"http://www.w3.org/2000/svg\" height=\"24px\"viewBox=\"0 0 24 24\"\n",
              "     width=\"24px\">\n",
              "    <g>\n",
              "        <path d=\"M19 3H5c-1.1 0-2 .9-2 2v14c0 1.1.9 2 2 2h14c1.1 0 2-.9 2-2V5c0-1.1-.9-2-2-2zM9 17H7v-7h2v7zm4 0h-2V7h2v10zm4 0h-2v-4h2v4z\"/>\n",
              "    </g>\n",
              "</svg>\n",
              "      </button>\n",
              "\n",
              "<style>\n",
              "  .colab-df-quickchart {\n",
              "      --bg-color: #E8F0FE;\n",
              "      --fill-color: #1967D2;\n",
              "      --hover-bg-color: #E2EBFA;\n",
              "      --hover-fill-color: #174EA6;\n",
              "      --disabled-fill-color: #AAA;\n",
              "      --disabled-bg-color: #DDD;\n",
              "  }\n",
              "\n",
              "  [theme=dark] .colab-df-quickchart {\n",
              "      --bg-color: #3B4455;\n",
              "      --fill-color: #D2E3FC;\n",
              "      --hover-bg-color: #434B5C;\n",
              "      --hover-fill-color: #FFFFFF;\n",
              "      --disabled-bg-color: #3B4455;\n",
              "      --disabled-fill-color: #666;\n",
              "  }\n",
              "\n",
              "  .colab-df-quickchart {\n",
              "    background-color: var(--bg-color);\n",
              "    border: none;\n",
              "    border-radius: 50%;\n",
              "    cursor: pointer;\n",
              "    display: none;\n",
              "    fill: var(--fill-color);\n",
              "    height: 32px;\n",
              "    padding: 0;\n",
              "    width: 32px;\n",
              "  }\n",
              "\n",
              "  .colab-df-quickchart:hover {\n",
              "    background-color: var(--hover-bg-color);\n",
              "    box-shadow: 0 1px 2px rgba(60, 64, 67, 0.3), 0 1px 3px 1px rgba(60, 64, 67, 0.15);\n",
              "    fill: var(--button-hover-fill-color);\n",
              "  }\n",
              "\n",
              "  .colab-df-quickchart-complete:disabled,\n",
              "  .colab-df-quickchart-complete:disabled:hover {\n",
              "    background-color: var(--disabled-bg-color);\n",
              "    fill: var(--disabled-fill-color);\n",
              "    box-shadow: none;\n",
              "  }\n",
              "\n",
              "  .colab-df-spinner {\n",
              "    border: 2px solid var(--fill-color);\n",
              "    border-color: transparent;\n",
              "    border-bottom-color: var(--fill-color);\n",
              "    animation:\n",
              "      spin 1s steps(1) infinite;\n",
              "  }\n",
              "\n",
              "  @keyframes spin {\n",
              "    0% {\n",
              "      border-color: transparent;\n",
              "      border-bottom-color: var(--fill-color);\n",
              "      border-left-color: var(--fill-color);\n",
              "    }\n",
              "    20% {\n",
              "      border-color: transparent;\n",
              "      border-left-color: var(--fill-color);\n",
              "      border-top-color: var(--fill-color);\n",
              "    }\n",
              "    30% {\n",
              "      border-color: transparent;\n",
              "      border-left-color: var(--fill-color);\n",
              "      border-top-color: var(--fill-color);\n",
              "      border-right-color: var(--fill-color);\n",
              "    }\n",
              "    40% {\n",
              "      border-color: transparent;\n",
              "      border-right-color: var(--fill-color);\n",
              "      border-top-color: var(--fill-color);\n",
              "    }\n",
              "    60% {\n",
              "      border-color: transparent;\n",
              "      border-right-color: var(--fill-color);\n",
              "    }\n",
              "    80% {\n",
              "      border-color: transparent;\n",
              "      border-right-color: var(--fill-color);\n",
              "      border-bottom-color: var(--fill-color);\n",
              "    }\n",
              "    90% {\n",
              "      border-color: transparent;\n",
              "      border-bottom-color: var(--fill-color);\n",
              "    }\n",
              "  }\n",
              "</style>\n",
              "\n",
              "      <script>\n",
              "        async function quickchart(key) {\n",
              "          const quickchartButtonEl =\n",
              "            document.querySelector('#' + key + ' button');\n",
              "          quickchartButtonEl.disabled = true;  // To prevent multiple clicks.\n",
              "          quickchartButtonEl.classList.add('colab-df-spinner');\n",
              "          try {\n",
              "            const charts = await google.colab.kernel.invokeFunction(\n",
              "                'suggestCharts', [key], {});\n",
              "          } catch (error) {\n",
              "            console.error('Error during call to suggestCharts:', error);\n",
              "          }\n",
              "          quickchartButtonEl.classList.remove('colab-df-spinner');\n",
              "          quickchartButtonEl.classList.add('colab-df-quickchart-complete');\n",
              "        }\n",
              "        (() => {\n",
              "          let quickchartButtonEl =\n",
              "            document.querySelector('#df-45a51e64-0f2b-416b-8fd3-c36adf72804e button');\n",
              "          quickchartButtonEl.style.display =\n",
              "            google.colab.kernel.accessAllowed ? 'block' : 'none';\n",
              "        })();\n",
              "      </script>\n",
              "    </div>\n",
              "\n",
              "    </div>\n",
              "  </div>\n"
            ],
            "application/vnd.google.colaboratory.intrinsic+json": {
              "type": "dataframe",
              "variable_name": "df"
            }
          },
          "metadata": {},
          "execution_count": 3
        }
      ]
    },
    {
      "cell_type": "markdown",
      "source": [
        "Se puede ver que hay varios registros con valores nulos, entonces nos podemos concentrar en registros que no contengan valores nulos. Para eso veamos cuantos valores nulos hay en cada columan."
      ],
      "metadata": {
        "id": "Gb19JniQ8ekz"
      }
    },
    {
      "cell_type": "markdown",
      "source": [
        "### Limpieza de datos"
      ],
      "metadata": {
        "id": "4fESMmD6-t0c"
      }
    },
    {
      "cell_type": "markdown",
      "source": [
        "\n",
        "\n",
        "---\n",
        "\n"
      ],
      "metadata": {
        "id": "JYD-8PuRIupx"
      }
    },
    {
      "cell_type": "code",
      "source": [
        "df.info()"
      ],
      "metadata": {
        "colab": {
          "base_uri": "https://localhost:8080/"
        },
        "id": "rYXLIxBd9_8j",
        "outputId": "033d94b1-1006-4799-99db-fa83d51e2814"
      },
      "execution_count": 4,
      "outputs": [
        {
          "output_type": "stream",
          "name": "stdout",
          "text": [
            "<class 'pandas.core.frame.DataFrame'>\n",
            "RangeIndex: 150000 entries, 0 to 149999\n",
            "Data columns (total 21 columns):\n",
            " #   Column                             Non-Null Count   Dtype  \n",
            "---  ------                             --------------   -----  \n",
            " 0   Date                               150000 non-null  object \n",
            " 1   Time                               150000 non-null  object \n",
            " 2   Booking ID                         150000 non-null  object \n",
            " 3   Booking Status                     150000 non-null  object \n",
            " 4   Customer ID                        150000 non-null  object \n",
            " 5   Vehicle Type                       150000 non-null  object \n",
            " 6   Pickup Location                    150000 non-null  object \n",
            " 7   Drop Location                      150000 non-null  object \n",
            " 8   Avg VTAT                           139500 non-null  float64\n",
            " 9   Avg CTAT                           102000 non-null  float64\n",
            " 10  Cancelled Rides by Customer        10500 non-null   float64\n",
            " 11  Reason for cancelling by Customer  10500 non-null   object \n",
            " 12  Cancelled Rides by Driver          27000 non-null   float64\n",
            " 13  Driver Cancellation Reason         27000 non-null   object \n",
            " 14  Incomplete Rides                   9000 non-null    float64\n",
            " 15  Incomplete Rides Reason            9000 non-null    object \n",
            " 16  Booking Value                      102000 non-null  float64\n",
            " 17  Ride Distance                      102000 non-null  float64\n",
            " 18  Driver Ratings                     93000 non-null   float64\n",
            " 19  Customer Rating                    93000 non-null   float64\n",
            " 20  Payment Method                     102000 non-null  object \n",
            "dtypes: float64(9), object(12)\n",
            "memory usage: 24.0+ MB\n"
          ]
        }
      ]
    },
    {
      "cell_type": "markdown",
      "source": [
        "Antes de empezar, primero vemos si hay valores duplicados."
      ],
      "metadata": {
        "id": "83dZpaBKHFrF"
      }
    },
    {
      "cell_type": "code",
      "source": [
        "print(df.duplicated().sum())"
      ],
      "metadata": {
        "colab": {
          "base_uri": "https://localhost:8080/"
        },
        "id": "eRd5cSNSHI8N",
        "outputId": "203caf2d-16a0-4be9-8119-28b4530eb1f4"
      },
      "execution_count": 29,
      "outputs": [
        {
          "output_type": "stream",
          "name": "stdout",
          "text": [
            "0\n"
          ]
        }
      ]
    },
    {
      "cell_type": "markdown",
      "source": [
        "No hay valores duplicados! Por lo que seguimos con la limpieza."
      ],
      "metadata": {
        "id": "itGvLA8LHLx7"
      }
    },
    {
      "cell_type": "markdown",
      "source": [
        "#### Limpieza de filas"
      ],
      "metadata": {
        "id": "lzDSBKyvDFG7"
      }
    },
    {
      "cell_type": "markdown",
      "source": [
        "\n",
        "\n",
        "---\n",
        "\n"
      ],
      "metadata": {
        "id": "fGJpsKABIv3l"
      }
    },
    {
      "cell_type": "markdown",
      "source": [
        "Al ver los nombres de todas las columnas, si tomamos como referencia 'Booking Status', podemos ver lo siguiente:"
      ],
      "metadata": {
        "id": "gU_z48xm-JLB"
      }
    },
    {
      "cell_type": "code",
      "source": [
        "df['Booking Status'].value_counts()"
      ],
      "metadata": {
        "colab": {
          "base_uri": "https://localhost:8080/",
          "height": 147
        },
        "id": "2ijCSSJd_g84",
        "outputId": "898df0aa-f13e-4177-aced-524fe765db86"
      },
      "execution_count": 20,
      "outputs": [
        {
          "output_type": "execute_result",
          "data": {
            "text/plain": [
              "Booking Status\n",
              "Completed    93000\n",
              "Name: count, dtype: int64"
            ],
            "text/html": [
              "<div>\n",
              "<style scoped>\n",
              "    .dataframe tbody tr th:only-of-type {\n",
              "        vertical-align: middle;\n",
              "    }\n",
              "\n",
              "    .dataframe tbody tr th {\n",
              "        vertical-align: top;\n",
              "    }\n",
              "\n",
              "    .dataframe thead th {\n",
              "        text-align: right;\n",
              "    }\n",
              "</style>\n",
              "<table border=\"1\" class=\"dataframe\">\n",
              "  <thead>\n",
              "    <tr style=\"text-align: right;\">\n",
              "      <th></th>\n",
              "      <th>count</th>\n",
              "    </tr>\n",
              "    <tr>\n",
              "      <th>Booking Status</th>\n",
              "      <th></th>\n",
              "    </tr>\n",
              "  </thead>\n",
              "  <tbody>\n",
              "    <tr>\n",
              "      <th>Completed</th>\n",
              "      <td>93000</td>\n",
              "    </tr>\n",
              "  </tbody>\n",
              "</table>\n",
              "</div><br><label><b>dtype:</b> int64</label>"
            ]
          },
          "metadata": {},
          "execution_count": 20
        }
      ]
    },
    {
      "cell_type": "markdown",
      "source": [
        "Podemos notar que el Status de 'Completed' son los que tienen más viajes, entonces para este análisis se usarán únicamente los registros de 'Completed'. Para ello eliminaremos los demás status"
      ],
      "metadata": {
        "id": "E7g8L9U8AKxj"
      }
    },
    {
      "cell_type": "code",
      "source": [
        "df.drop(df[df['Booking Status'] == 'Cancelled by Driver'].index, inplace=True)"
      ],
      "metadata": {
        "id": "u5gZxh5yAnA3"
      },
      "execution_count": 21,
      "outputs": []
    },
    {
      "cell_type": "code",
      "source": [
        "df.drop(df[df['Booking Status'] == 'No Driver Found'].index, inplace=True)"
      ],
      "metadata": {
        "id": "x7uVoaYsCFUA"
      },
      "execution_count": 22,
      "outputs": []
    },
    {
      "cell_type": "code",
      "source": [
        "df.drop(df[df['Booking Status'] == 'Cancelled by Customer'].index, inplace=True)"
      ],
      "metadata": {
        "id": "i4WAxk0aCIsF"
      },
      "execution_count": 23,
      "outputs": []
    },
    {
      "cell_type": "code",
      "source": [
        "df.drop(df[df['Booking Status'] == 'Incomplete'].index, inplace=True)"
      ],
      "metadata": {
        "id": "37CoFEc5CPco"
      },
      "execution_count": 24,
      "outputs": []
    },
    {
      "cell_type": "markdown",
      "source": [
        "Volvemos a ver los primeros registros"
      ],
      "metadata": {
        "id": "0lQbkaOQCXQZ"
      }
    },
    {
      "cell_type": "code",
      "source": [
        "df.head()"
      ],
      "metadata": {
        "colab": {
          "base_uri": "https://localhost:8080/",
          "height": 206
        },
        "id": "1gx2o1VrCbxf",
        "outputId": "b13488ba-0b0e-4345-f5da-b153770f3eb0"
      },
      "execution_count": 25,
      "outputs": [
        {
          "output_type": "execute_result",
          "data": {
            "text/plain": [
              "         Date      Time    Booking ID Booking Status   Customer ID  \\\n",
              "2  2024-08-23  08:56:10  \"CNR8494506\"      Completed  \"CID9202816\"   \n",
              "3  2024-10-21  17:17:25  \"CNR8906825\"      Completed  \"CID2610914\"   \n",
              "4  2024-09-16  22:08:00  \"CNR1950162\"      Completed  \"CID9933542\"   \n",
              "5  2024-02-06  09:44:56  \"CNR4096693\"      Completed  \"CID4670564\"   \n",
              "6  2024-06-17  15:45:58  \"CNR2002539\"      Completed  \"CID6800553\"   \n",
              "\n",
              "    Vehicle Type      Pickup Location  Drop Location  Avg VTAT  Avg CTAT  \\\n",
              "2           Auto              Khandsa  Malviya Nagar      13.4      25.8   \n",
              "3  Premier Sedan  Central Secretariat       Inderlok      13.1      28.5   \n",
              "4           Bike     Ghitorni Village    Khan Market       5.3      19.6   \n",
              "5           Auto                AIIMS    Narsinghpur       5.1      18.1   \n",
              "6        Go Mini             Vaishali   Punjabi Bagh       7.1      20.4   \n",
              "\n",
              "   Booking Value  Ride Distance  Driver Ratings  Customer Rating  \\\n",
              "2          627.0          13.58             4.9              4.9   \n",
              "3          416.0          34.02             4.6              5.0   \n",
              "4          737.0          48.21             4.1              4.3   \n",
              "5          316.0           4.85             4.1              4.6   \n",
              "6          640.0          41.24             4.0              4.1   \n",
              "\n",
              "  Payment Method  \n",
              "2     Debit Card  \n",
              "3            UPI  \n",
              "4            UPI  \n",
              "5            UPI  \n",
              "6            UPI  "
            ],
            "text/html": [
              "\n",
              "  <div id=\"df-91c45f44-e047-4abf-94bf-7e43e573321c\" class=\"colab-df-container\">\n",
              "    <div>\n",
              "<style scoped>\n",
              "    .dataframe tbody tr th:only-of-type {\n",
              "        vertical-align: middle;\n",
              "    }\n",
              "\n",
              "    .dataframe tbody tr th {\n",
              "        vertical-align: top;\n",
              "    }\n",
              "\n",
              "    .dataframe thead th {\n",
              "        text-align: right;\n",
              "    }\n",
              "</style>\n",
              "<table border=\"1\" class=\"dataframe\">\n",
              "  <thead>\n",
              "    <tr style=\"text-align: right;\">\n",
              "      <th></th>\n",
              "      <th>Date</th>\n",
              "      <th>Time</th>\n",
              "      <th>Booking ID</th>\n",
              "      <th>Booking Status</th>\n",
              "      <th>Customer ID</th>\n",
              "      <th>Vehicle Type</th>\n",
              "      <th>Pickup Location</th>\n",
              "      <th>Drop Location</th>\n",
              "      <th>Avg VTAT</th>\n",
              "      <th>Avg CTAT</th>\n",
              "      <th>Booking Value</th>\n",
              "      <th>Ride Distance</th>\n",
              "      <th>Driver Ratings</th>\n",
              "      <th>Customer Rating</th>\n",
              "      <th>Payment Method</th>\n",
              "    </tr>\n",
              "  </thead>\n",
              "  <tbody>\n",
              "    <tr>\n",
              "      <th>2</th>\n",
              "      <td>2024-08-23</td>\n",
              "      <td>08:56:10</td>\n",
              "      <td>\"CNR8494506\"</td>\n",
              "      <td>Completed</td>\n",
              "      <td>\"CID9202816\"</td>\n",
              "      <td>Auto</td>\n",
              "      <td>Khandsa</td>\n",
              "      <td>Malviya Nagar</td>\n",
              "      <td>13.4</td>\n",
              "      <td>25.8</td>\n",
              "      <td>627.0</td>\n",
              "      <td>13.58</td>\n",
              "      <td>4.9</td>\n",
              "      <td>4.9</td>\n",
              "      <td>Debit Card</td>\n",
              "    </tr>\n",
              "    <tr>\n",
              "      <th>3</th>\n",
              "      <td>2024-10-21</td>\n",
              "      <td>17:17:25</td>\n",
              "      <td>\"CNR8906825\"</td>\n",
              "      <td>Completed</td>\n",
              "      <td>\"CID2610914\"</td>\n",
              "      <td>Premier Sedan</td>\n",
              "      <td>Central Secretariat</td>\n",
              "      <td>Inderlok</td>\n",
              "      <td>13.1</td>\n",
              "      <td>28.5</td>\n",
              "      <td>416.0</td>\n",
              "      <td>34.02</td>\n",
              "      <td>4.6</td>\n",
              "      <td>5.0</td>\n",
              "      <td>UPI</td>\n",
              "    </tr>\n",
              "    <tr>\n",
              "      <th>4</th>\n",
              "      <td>2024-09-16</td>\n",
              "      <td>22:08:00</td>\n",
              "      <td>\"CNR1950162\"</td>\n",
              "      <td>Completed</td>\n",
              "      <td>\"CID9933542\"</td>\n",
              "      <td>Bike</td>\n",
              "      <td>Ghitorni Village</td>\n",
              "      <td>Khan Market</td>\n",
              "      <td>5.3</td>\n",
              "      <td>19.6</td>\n",
              "      <td>737.0</td>\n",
              "      <td>48.21</td>\n",
              "      <td>4.1</td>\n",
              "      <td>4.3</td>\n",
              "      <td>UPI</td>\n",
              "    </tr>\n",
              "    <tr>\n",
              "      <th>5</th>\n",
              "      <td>2024-02-06</td>\n",
              "      <td>09:44:56</td>\n",
              "      <td>\"CNR4096693\"</td>\n",
              "      <td>Completed</td>\n",
              "      <td>\"CID4670564\"</td>\n",
              "      <td>Auto</td>\n",
              "      <td>AIIMS</td>\n",
              "      <td>Narsinghpur</td>\n",
              "      <td>5.1</td>\n",
              "      <td>18.1</td>\n",
              "      <td>316.0</td>\n",
              "      <td>4.85</td>\n",
              "      <td>4.1</td>\n",
              "      <td>4.6</td>\n",
              "      <td>UPI</td>\n",
              "    </tr>\n",
              "    <tr>\n",
              "      <th>6</th>\n",
              "      <td>2024-06-17</td>\n",
              "      <td>15:45:58</td>\n",
              "      <td>\"CNR2002539\"</td>\n",
              "      <td>Completed</td>\n",
              "      <td>\"CID6800553\"</td>\n",
              "      <td>Go Mini</td>\n",
              "      <td>Vaishali</td>\n",
              "      <td>Punjabi Bagh</td>\n",
              "      <td>7.1</td>\n",
              "      <td>20.4</td>\n",
              "      <td>640.0</td>\n",
              "      <td>41.24</td>\n",
              "      <td>4.0</td>\n",
              "      <td>4.1</td>\n",
              "      <td>UPI</td>\n",
              "    </tr>\n",
              "  </tbody>\n",
              "</table>\n",
              "</div>\n",
              "    <div class=\"colab-df-buttons\">\n",
              "\n",
              "  <div class=\"colab-df-container\">\n",
              "    <button class=\"colab-df-convert\" onclick=\"convertToInteractive('df-91c45f44-e047-4abf-94bf-7e43e573321c')\"\n",
              "            title=\"Convert this dataframe to an interactive table.\"\n",
              "            style=\"display:none;\">\n",
              "\n",
              "  <svg xmlns=\"http://www.w3.org/2000/svg\" height=\"24px\" viewBox=\"0 -960 960 960\">\n",
              "    <path d=\"M120-120v-720h720v720H120Zm60-500h600v-160H180v160Zm220 220h160v-160H400v160Zm0 220h160v-160H400v160ZM180-400h160v-160H180v160Zm440 0h160v-160H620v160ZM180-180h160v-160H180v160Zm440 0h160v-160H620v160Z\"/>\n",
              "  </svg>\n",
              "    </button>\n",
              "\n",
              "  <style>\n",
              "    .colab-df-container {\n",
              "      display:flex;\n",
              "      gap: 12px;\n",
              "    }\n",
              "\n",
              "    .colab-df-convert {\n",
              "      background-color: #E8F0FE;\n",
              "      border: none;\n",
              "      border-radius: 50%;\n",
              "      cursor: pointer;\n",
              "      display: none;\n",
              "      fill: #1967D2;\n",
              "      height: 32px;\n",
              "      padding: 0 0 0 0;\n",
              "      width: 32px;\n",
              "    }\n",
              "\n",
              "    .colab-df-convert:hover {\n",
              "      background-color: #E2EBFA;\n",
              "      box-shadow: 0px 1px 2px rgba(60, 64, 67, 0.3), 0px 1px 3px 1px rgba(60, 64, 67, 0.15);\n",
              "      fill: #174EA6;\n",
              "    }\n",
              "\n",
              "    .colab-df-buttons div {\n",
              "      margin-bottom: 4px;\n",
              "    }\n",
              "\n",
              "    [theme=dark] .colab-df-convert {\n",
              "      background-color: #3B4455;\n",
              "      fill: #D2E3FC;\n",
              "    }\n",
              "\n",
              "    [theme=dark] .colab-df-convert:hover {\n",
              "      background-color: #434B5C;\n",
              "      box-shadow: 0px 1px 3px 1px rgba(0, 0, 0, 0.15);\n",
              "      filter: drop-shadow(0px 1px 2px rgba(0, 0, 0, 0.3));\n",
              "      fill: #FFFFFF;\n",
              "    }\n",
              "  </style>\n",
              "\n",
              "    <script>\n",
              "      const buttonEl =\n",
              "        document.querySelector('#df-91c45f44-e047-4abf-94bf-7e43e573321c button.colab-df-convert');\n",
              "      buttonEl.style.display =\n",
              "        google.colab.kernel.accessAllowed ? 'block' : 'none';\n",
              "\n",
              "      async function convertToInteractive(key) {\n",
              "        const element = document.querySelector('#df-91c45f44-e047-4abf-94bf-7e43e573321c');\n",
              "        const dataTable =\n",
              "          await google.colab.kernel.invokeFunction('convertToInteractive',\n",
              "                                                    [key], {});\n",
              "        if (!dataTable) return;\n",
              "\n",
              "        const docLinkHtml = 'Like what you see? Visit the ' +\n",
              "          '<a target=\"_blank\" href=https://colab.research.google.com/notebooks/data_table.ipynb>data table notebook</a>'\n",
              "          + ' to learn more about interactive tables.';\n",
              "        element.innerHTML = '';\n",
              "        dataTable['output_type'] = 'display_data';\n",
              "        await google.colab.output.renderOutput(dataTable, element);\n",
              "        const docLink = document.createElement('div');\n",
              "        docLink.innerHTML = docLinkHtml;\n",
              "        element.appendChild(docLink);\n",
              "      }\n",
              "    </script>\n",
              "  </div>\n",
              "\n",
              "\n",
              "    <div id=\"df-f20c24e5-420e-4d43-9b77-9fa1c5edd1e2\">\n",
              "      <button class=\"colab-df-quickchart\" onclick=\"quickchart('df-f20c24e5-420e-4d43-9b77-9fa1c5edd1e2')\"\n",
              "                title=\"Suggest charts\"\n",
              "                style=\"display:none;\">\n",
              "\n",
              "<svg xmlns=\"http://www.w3.org/2000/svg\" height=\"24px\"viewBox=\"0 0 24 24\"\n",
              "     width=\"24px\">\n",
              "    <g>\n",
              "        <path d=\"M19 3H5c-1.1 0-2 .9-2 2v14c0 1.1.9 2 2 2h14c1.1 0 2-.9 2-2V5c0-1.1-.9-2-2-2zM9 17H7v-7h2v7zm4 0h-2V7h2v10zm4 0h-2v-4h2v4z\"/>\n",
              "    </g>\n",
              "</svg>\n",
              "      </button>\n",
              "\n",
              "<style>\n",
              "  .colab-df-quickchart {\n",
              "      --bg-color: #E8F0FE;\n",
              "      --fill-color: #1967D2;\n",
              "      --hover-bg-color: #E2EBFA;\n",
              "      --hover-fill-color: #174EA6;\n",
              "      --disabled-fill-color: #AAA;\n",
              "      --disabled-bg-color: #DDD;\n",
              "  }\n",
              "\n",
              "  [theme=dark] .colab-df-quickchart {\n",
              "      --bg-color: #3B4455;\n",
              "      --fill-color: #D2E3FC;\n",
              "      --hover-bg-color: #434B5C;\n",
              "      --hover-fill-color: #FFFFFF;\n",
              "      --disabled-bg-color: #3B4455;\n",
              "      --disabled-fill-color: #666;\n",
              "  }\n",
              "\n",
              "  .colab-df-quickchart {\n",
              "    background-color: var(--bg-color);\n",
              "    border: none;\n",
              "    border-radius: 50%;\n",
              "    cursor: pointer;\n",
              "    display: none;\n",
              "    fill: var(--fill-color);\n",
              "    height: 32px;\n",
              "    padding: 0;\n",
              "    width: 32px;\n",
              "  }\n",
              "\n",
              "  .colab-df-quickchart:hover {\n",
              "    background-color: var(--hover-bg-color);\n",
              "    box-shadow: 0 1px 2px rgba(60, 64, 67, 0.3), 0 1px 3px 1px rgba(60, 64, 67, 0.15);\n",
              "    fill: var(--button-hover-fill-color);\n",
              "  }\n",
              "\n",
              "  .colab-df-quickchart-complete:disabled,\n",
              "  .colab-df-quickchart-complete:disabled:hover {\n",
              "    background-color: var(--disabled-bg-color);\n",
              "    fill: var(--disabled-fill-color);\n",
              "    box-shadow: none;\n",
              "  }\n",
              "\n",
              "  .colab-df-spinner {\n",
              "    border: 2px solid var(--fill-color);\n",
              "    border-color: transparent;\n",
              "    border-bottom-color: var(--fill-color);\n",
              "    animation:\n",
              "      spin 1s steps(1) infinite;\n",
              "  }\n",
              "\n",
              "  @keyframes spin {\n",
              "    0% {\n",
              "      border-color: transparent;\n",
              "      border-bottom-color: var(--fill-color);\n",
              "      border-left-color: var(--fill-color);\n",
              "    }\n",
              "    20% {\n",
              "      border-color: transparent;\n",
              "      border-left-color: var(--fill-color);\n",
              "      border-top-color: var(--fill-color);\n",
              "    }\n",
              "    30% {\n",
              "      border-color: transparent;\n",
              "      border-left-color: var(--fill-color);\n",
              "      border-top-color: var(--fill-color);\n",
              "      border-right-color: var(--fill-color);\n",
              "    }\n",
              "    40% {\n",
              "      border-color: transparent;\n",
              "      border-right-color: var(--fill-color);\n",
              "      border-top-color: var(--fill-color);\n",
              "    }\n",
              "    60% {\n",
              "      border-color: transparent;\n",
              "      border-right-color: var(--fill-color);\n",
              "    }\n",
              "    80% {\n",
              "      border-color: transparent;\n",
              "      border-right-color: var(--fill-color);\n",
              "      border-bottom-color: var(--fill-color);\n",
              "    }\n",
              "    90% {\n",
              "      border-color: transparent;\n",
              "      border-bottom-color: var(--fill-color);\n",
              "    }\n",
              "  }\n",
              "</style>\n",
              "\n",
              "      <script>\n",
              "        async function quickchart(key) {\n",
              "          const quickchartButtonEl =\n",
              "            document.querySelector('#' + key + ' button');\n",
              "          quickchartButtonEl.disabled = true;  // To prevent multiple clicks.\n",
              "          quickchartButtonEl.classList.add('colab-df-spinner');\n",
              "          try {\n",
              "            const charts = await google.colab.kernel.invokeFunction(\n",
              "                'suggestCharts', [key], {});\n",
              "          } catch (error) {\n",
              "            console.error('Error during call to suggestCharts:', error);\n",
              "          }\n",
              "          quickchartButtonEl.classList.remove('colab-df-spinner');\n",
              "          quickchartButtonEl.classList.add('colab-df-quickchart-complete');\n",
              "        }\n",
              "        (() => {\n",
              "          let quickchartButtonEl =\n",
              "            document.querySelector('#df-f20c24e5-420e-4d43-9b77-9fa1c5edd1e2 button');\n",
              "          quickchartButtonEl.style.display =\n",
              "            google.colab.kernel.accessAllowed ? 'block' : 'none';\n",
              "        })();\n",
              "      </script>\n",
              "    </div>\n",
              "\n",
              "    </div>\n",
              "  </div>\n"
            ],
            "application/vnd.google.colaboratory.intrinsic+json": {
              "type": "dataframe",
              "variable_name": "df",
              "repr_error": "0"
            }
          },
          "metadata": {},
          "execution_count": 25
        }
      ]
    },
    {
      "cell_type": "markdown",
      "source": [
        "Podemos ver que ya los primeros 5 tienen status de 'Completed', sin embargo para asegurar, podemos ver los valores únicos que tiene."
      ],
      "metadata": {
        "id": "pF253l68Ce-S"
      }
    },
    {
      "cell_type": "code",
      "source": [
        "df['Booking Status'].unique()"
      ],
      "metadata": {
        "colab": {
          "base_uri": "https://localhost:8080/"
        },
        "id": "OBC0KQiGCr0I",
        "outputId": "7a69ae08-095a-4c2e-8dc7-abea4d2fbc3c"
      },
      "execution_count": 26,
      "outputs": [
        {
          "output_type": "execute_result",
          "data": {
            "text/plain": [
              "array(['Completed'], dtype=object)"
            ]
          },
          "metadata": {},
          "execution_count": 26
        }
      ]
    },
    {
      "cell_type": "code",
      "source": [
        "df['Booking Status'].value_counts()"
      ],
      "metadata": {
        "colab": {
          "base_uri": "https://localhost:8080/",
          "height": 147
        },
        "id": "V1PGCNNKC0-5",
        "outputId": "3fbe6428-6ec1-4fb7-a6db-dcd8949a1859"
      },
      "execution_count": 27,
      "outputs": [
        {
          "output_type": "execute_result",
          "data": {
            "text/plain": [
              "Booking Status\n",
              "Completed    93000\n",
              "Name: count, dtype: int64"
            ],
            "text/html": [
              "<div>\n",
              "<style scoped>\n",
              "    .dataframe tbody tr th:only-of-type {\n",
              "        vertical-align: middle;\n",
              "    }\n",
              "\n",
              "    .dataframe tbody tr th {\n",
              "        vertical-align: top;\n",
              "    }\n",
              "\n",
              "    .dataframe thead th {\n",
              "        text-align: right;\n",
              "    }\n",
              "</style>\n",
              "<table border=\"1\" class=\"dataframe\">\n",
              "  <thead>\n",
              "    <tr style=\"text-align: right;\">\n",
              "      <th></th>\n",
              "      <th>count</th>\n",
              "    </tr>\n",
              "    <tr>\n",
              "      <th>Booking Status</th>\n",
              "      <th></th>\n",
              "    </tr>\n",
              "  </thead>\n",
              "  <tbody>\n",
              "    <tr>\n",
              "      <th>Completed</th>\n",
              "      <td>93000</td>\n",
              "    </tr>\n",
              "  </tbody>\n",
              "</table>\n",
              "</div><br><label><b>dtype:</b> int64</label>"
            ]
          },
          "metadata": {},
          "execution_count": 27
        }
      ]
    },
    {
      "cell_type": "markdown",
      "source": [
        "Ya podemos ver que tenemos un dataframe centrado en viajes completados."
      ],
      "metadata": {
        "id": "Ro98PmuVCwKP"
      }
    },
    {
      "cell_type": "markdown",
      "source": [
        "#### Limpieza de columnas"
      ],
      "metadata": {
        "id": "-N6NF5d0DH7o"
      }
    },
    {
      "cell_type": "markdown",
      "source": [
        "\n",
        "\n",
        "---\n",
        "\n"
      ],
      "metadata": {
        "id": "wEcWrLZFIxkx"
      }
    },
    {
      "cell_type": "markdown",
      "source": [
        "Sigue eliminar las columnas que no tengan relación con los viajes completados. Estas son las que por descarte podemos saber, ya que se tratan sobre viajes cancelados o incompletos:\n",
        "*   Cancelled Rides by Customer\n",
        "*   Reason for cancelling by Customer\n",
        "*   Cancelled Rides by Driver\n",
        "*   Driver Cancellation Reason\n",
        "*   Incomplete Rides\n",
        "*   Incomplete Rides Reason\n",
        "\n",
        "\n",
        "\n",
        "\n",
        "\n"
      ],
      "metadata": {
        "id": "RjauqKjxDNiT"
      }
    },
    {
      "cell_type": "code",
      "source": [
        "columnas_a_eliminar = [\n",
        "    'Cancelled Rides by Customer',\n",
        "    'Reason for cancelling by Customer',\n",
        "    'Cancelled Rides by Driver',\n",
        "    'Driver Cancellation Reason',\n",
        "    'Incomplete Rides',\n",
        "    'Incomplete Rides Reason'\n",
        "]\n",
        "\n",
        "df.drop(columns=columnas_a_eliminar, inplace=True)\n",
        "print(f\"Columnas eliminadas\")"
      ],
      "metadata": {
        "colab": {
          "base_uri": "https://localhost:8080/"
        },
        "id": "J70joEwdDw3T",
        "outputId": "8d744a89-1e9c-4054-efe0-bd512ea8eca4"
      },
      "execution_count": 17,
      "outputs": [
        {
          "output_type": "stream",
          "name": "stdout",
          "text": [
            "Columnas eliminadas\n"
          ]
        }
      ]
    },
    {
      "cell_type": "markdown",
      "source": [
        "Volvemos a mostrar en pequeño resumen del dataframe."
      ],
      "metadata": {
        "id": "Pd9Afo1kEqmd"
      }
    },
    {
      "cell_type": "code",
      "source": [
        "df.info()"
      ],
      "metadata": {
        "colab": {
          "base_uri": "https://localhost:8080/"
        },
        "id": "0XtIRRGHEZeJ",
        "outputId": "4d03ac2d-4dbd-4ea0-f478-f46bfc7dc47a"
      },
      "execution_count": 19,
      "outputs": [
        {
          "output_type": "stream",
          "name": "stdout",
          "text": [
            "<class 'pandas.core.frame.DataFrame'>\n",
            "Index: 93000 entries, 2 to 149999\n",
            "Data columns (total 15 columns):\n",
            " #   Column           Non-Null Count  Dtype  \n",
            "---  ------           --------------  -----  \n",
            " 0   Date             93000 non-null  object \n",
            " 1   Time             93000 non-null  object \n",
            " 2   Booking ID       93000 non-null  object \n",
            " 3   Booking Status   93000 non-null  object \n",
            " 4   Customer ID      93000 non-null  object \n",
            " 5   Vehicle Type     93000 non-null  object \n",
            " 6   Pickup Location  93000 non-null  object \n",
            " 7   Drop Location    93000 non-null  object \n",
            " 8   Avg VTAT         93000 non-null  float64\n",
            " 9   Avg CTAT         93000 non-null  float64\n",
            " 10  Booking Value    93000 non-null  float64\n",
            " 11  Ride Distance    93000 non-null  float64\n",
            " 12  Driver Ratings   93000 non-null  float64\n",
            " 13  Customer Rating  93000 non-null  float64\n",
            " 14  Payment Method   93000 non-null  object \n",
            "dtypes: float64(6), object(9)\n",
            "memory usage: 11.4+ MB\n"
          ]
        }
      ]
    },
    {
      "cell_type": "markdown",
      "source": [
        "Ya podemos notar que nos quedamos únicamente con registros que no tengan valores nulos."
      ],
      "metadata": {
        "id": "POa5kgqtEz3_"
      }
    },
    {
      "cell_type": "code",
      "source": [
        "df.head()"
      ],
      "metadata": {
        "colab": {
          "base_uri": "https://localhost:8080/",
          "height": 206
        },
        "id": "8UENoIrNFnH0",
        "outputId": "2dbf595d-d86e-484e-c6ba-05fd37eecb58"
      },
      "execution_count": 28,
      "outputs": [
        {
          "output_type": "execute_result",
          "data": {
            "text/plain": [
              "         Date      Time    Booking ID Booking Status   Customer ID  \\\n",
              "2  2024-08-23  08:56:10  \"CNR8494506\"      Completed  \"CID9202816\"   \n",
              "3  2024-10-21  17:17:25  \"CNR8906825\"      Completed  \"CID2610914\"   \n",
              "4  2024-09-16  22:08:00  \"CNR1950162\"      Completed  \"CID9933542\"   \n",
              "5  2024-02-06  09:44:56  \"CNR4096693\"      Completed  \"CID4670564\"   \n",
              "6  2024-06-17  15:45:58  \"CNR2002539\"      Completed  \"CID6800553\"   \n",
              "\n",
              "    Vehicle Type      Pickup Location  Drop Location  Avg VTAT  Avg CTAT  \\\n",
              "2           Auto              Khandsa  Malviya Nagar      13.4      25.8   \n",
              "3  Premier Sedan  Central Secretariat       Inderlok      13.1      28.5   \n",
              "4           Bike     Ghitorni Village    Khan Market       5.3      19.6   \n",
              "5           Auto                AIIMS    Narsinghpur       5.1      18.1   \n",
              "6        Go Mini             Vaishali   Punjabi Bagh       7.1      20.4   \n",
              "\n",
              "   Booking Value  Ride Distance  Driver Ratings  Customer Rating  \\\n",
              "2          627.0          13.58             4.9              4.9   \n",
              "3          416.0          34.02             4.6              5.0   \n",
              "4          737.0          48.21             4.1              4.3   \n",
              "5          316.0           4.85             4.1              4.6   \n",
              "6          640.0          41.24             4.0              4.1   \n",
              "\n",
              "  Payment Method  \n",
              "2     Debit Card  \n",
              "3            UPI  \n",
              "4            UPI  \n",
              "5            UPI  \n",
              "6            UPI  "
            ],
            "text/html": [
              "\n",
              "  <div id=\"df-00922bdb-b5d1-4610-ac30-d0a2e91dc952\" class=\"colab-df-container\">\n",
              "    <div>\n",
              "<style scoped>\n",
              "    .dataframe tbody tr th:only-of-type {\n",
              "        vertical-align: middle;\n",
              "    }\n",
              "\n",
              "    .dataframe tbody tr th {\n",
              "        vertical-align: top;\n",
              "    }\n",
              "\n",
              "    .dataframe thead th {\n",
              "        text-align: right;\n",
              "    }\n",
              "</style>\n",
              "<table border=\"1\" class=\"dataframe\">\n",
              "  <thead>\n",
              "    <tr style=\"text-align: right;\">\n",
              "      <th></th>\n",
              "      <th>Date</th>\n",
              "      <th>Time</th>\n",
              "      <th>Booking ID</th>\n",
              "      <th>Booking Status</th>\n",
              "      <th>Customer ID</th>\n",
              "      <th>Vehicle Type</th>\n",
              "      <th>Pickup Location</th>\n",
              "      <th>Drop Location</th>\n",
              "      <th>Avg VTAT</th>\n",
              "      <th>Avg CTAT</th>\n",
              "      <th>Booking Value</th>\n",
              "      <th>Ride Distance</th>\n",
              "      <th>Driver Ratings</th>\n",
              "      <th>Customer Rating</th>\n",
              "      <th>Payment Method</th>\n",
              "    </tr>\n",
              "  </thead>\n",
              "  <tbody>\n",
              "    <tr>\n",
              "      <th>2</th>\n",
              "      <td>2024-08-23</td>\n",
              "      <td>08:56:10</td>\n",
              "      <td>\"CNR8494506\"</td>\n",
              "      <td>Completed</td>\n",
              "      <td>\"CID9202816\"</td>\n",
              "      <td>Auto</td>\n",
              "      <td>Khandsa</td>\n",
              "      <td>Malviya Nagar</td>\n",
              "      <td>13.4</td>\n",
              "      <td>25.8</td>\n",
              "      <td>627.0</td>\n",
              "      <td>13.58</td>\n",
              "      <td>4.9</td>\n",
              "      <td>4.9</td>\n",
              "      <td>Debit Card</td>\n",
              "    </tr>\n",
              "    <tr>\n",
              "      <th>3</th>\n",
              "      <td>2024-10-21</td>\n",
              "      <td>17:17:25</td>\n",
              "      <td>\"CNR8906825\"</td>\n",
              "      <td>Completed</td>\n",
              "      <td>\"CID2610914\"</td>\n",
              "      <td>Premier Sedan</td>\n",
              "      <td>Central Secretariat</td>\n",
              "      <td>Inderlok</td>\n",
              "      <td>13.1</td>\n",
              "      <td>28.5</td>\n",
              "      <td>416.0</td>\n",
              "      <td>34.02</td>\n",
              "      <td>4.6</td>\n",
              "      <td>5.0</td>\n",
              "      <td>UPI</td>\n",
              "    </tr>\n",
              "    <tr>\n",
              "      <th>4</th>\n",
              "      <td>2024-09-16</td>\n",
              "      <td>22:08:00</td>\n",
              "      <td>\"CNR1950162\"</td>\n",
              "      <td>Completed</td>\n",
              "      <td>\"CID9933542\"</td>\n",
              "      <td>Bike</td>\n",
              "      <td>Ghitorni Village</td>\n",
              "      <td>Khan Market</td>\n",
              "      <td>5.3</td>\n",
              "      <td>19.6</td>\n",
              "      <td>737.0</td>\n",
              "      <td>48.21</td>\n",
              "      <td>4.1</td>\n",
              "      <td>4.3</td>\n",
              "      <td>UPI</td>\n",
              "    </tr>\n",
              "    <tr>\n",
              "      <th>5</th>\n",
              "      <td>2024-02-06</td>\n",
              "      <td>09:44:56</td>\n",
              "      <td>\"CNR4096693\"</td>\n",
              "      <td>Completed</td>\n",
              "      <td>\"CID4670564\"</td>\n",
              "      <td>Auto</td>\n",
              "      <td>AIIMS</td>\n",
              "      <td>Narsinghpur</td>\n",
              "      <td>5.1</td>\n",
              "      <td>18.1</td>\n",
              "      <td>316.0</td>\n",
              "      <td>4.85</td>\n",
              "      <td>4.1</td>\n",
              "      <td>4.6</td>\n",
              "      <td>UPI</td>\n",
              "    </tr>\n",
              "    <tr>\n",
              "      <th>6</th>\n",
              "      <td>2024-06-17</td>\n",
              "      <td>15:45:58</td>\n",
              "      <td>\"CNR2002539\"</td>\n",
              "      <td>Completed</td>\n",
              "      <td>\"CID6800553\"</td>\n",
              "      <td>Go Mini</td>\n",
              "      <td>Vaishali</td>\n",
              "      <td>Punjabi Bagh</td>\n",
              "      <td>7.1</td>\n",
              "      <td>20.4</td>\n",
              "      <td>640.0</td>\n",
              "      <td>41.24</td>\n",
              "      <td>4.0</td>\n",
              "      <td>4.1</td>\n",
              "      <td>UPI</td>\n",
              "    </tr>\n",
              "  </tbody>\n",
              "</table>\n",
              "</div>\n",
              "    <div class=\"colab-df-buttons\">\n",
              "\n",
              "  <div class=\"colab-df-container\">\n",
              "    <button class=\"colab-df-convert\" onclick=\"convertToInteractive('df-00922bdb-b5d1-4610-ac30-d0a2e91dc952')\"\n",
              "            title=\"Convert this dataframe to an interactive table.\"\n",
              "            style=\"display:none;\">\n",
              "\n",
              "  <svg xmlns=\"http://www.w3.org/2000/svg\" height=\"24px\" viewBox=\"0 -960 960 960\">\n",
              "    <path d=\"M120-120v-720h720v720H120Zm60-500h600v-160H180v160Zm220 220h160v-160H400v160Zm0 220h160v-160H400v160ZM180-400h160v-160H180v160Zm440 0h160v-160H620v160ZM180-180h160v-160H180v160Zm440 0h160v-160H620v160Z\"/>\n",
              "  </svg>\n",
              "    </button>\n",
              "\n",
              "  <style>\n",
              "    .colab-df-container {\n",
              "      display:flex;\n",
              "      gap: 12px;\n",
              "    }\n",
              "\n",
              "    .colab-df-convert {\n",
              "      background-color: #E8F0FE;\n",
              "      border: none;\n",
              "      border-radius: 50%;\n",
              "      cursor: pointer;\n",
              "      display: none;\n",
              "      fill: #1967D2;\n",
              "      height: 32px;\n",
              "      padding: 0 0 0 0;\n",
              "      width: 32px;\n",
              "    }\n",
              "\n",
              "    .colab-df-convert:hover {\n",
              "      background-color: #E2EBFA;\n",
              "      box-shadow: 0px 1px 2px rgba(60, 64, 67, 0.3), 0px 1px 3px 1px rgba(60, 64, 67, 0.15);\n",
              "      fill: #174EA6;\n",
              "    }\n",
              "\n",
              "    .colab-df-buttons div {\n",
              "      margin-bottom: 4px;\n",
              "    }\n",
              "\n",
              "    [theme=dark] .colab-df-convert {\n",
              "      background-color: #3B4455;\n",
              "      fill: #D2E3FC;\n",
              "    }\n",
              "\n",
              "    [theme=dark] .colab-df-convert:hover {\n",
              "      background-color: #434B5C;\n",
              "      box-shadow: 0px 1px 3px 1px rgba(0, 0, 0, 0.15);\n",
              "      filter: drop-shadow(0px 1px 2px rgba(0, 0, 0, 0.3));\n",
              "      fill: #FFFFFF;\n",
              "    }\n",
              "  </style>\n",
              "\n",
              "    <script>\n",
              "      const buttonEl =\n",
              "        document.querySelector('#df-00922bdb-b5d1-4610-ac30-d0a2e91dc952 button.colab-df-convert');\n",
              "      buttonEl.style.display =\n",
              "        google.colab.kernel.accessAllowed ? 'block' : 'none';\n",
              "\n",
              "      async function convertToInteractive(key) {\n",
              "        const element = document.querySelector('#df-00922bdb-b5d1-4610-ac30-d0a2e91dc952');\n",
              "        const dataTable =\n",
              "          await google.colab.kernel.invokeFunction('convertToInteractive',\n",
              "                                                    [key], {});\n",
              "        if (!dataTable) return;\n",
              "\n",
              "        const docLinkHtml = 'Like what you see? Visit the ' +\n",
              "          '<a target=\"_blank\" href=https://colab.research.google.com/notebooks/data_table.ipynb>data table notebook</a>'\n",
              "          + ' to learn more about interactive tables.';\n",
              "        element.innerHTML = '';\n",
              "        dataTable['output_type'] = 'display_data';\n",
              "        await google.colab.output.renderOutput(dataTable, element);\n",
              "        const docLink = document.createElement('div');\n",
              "        docLink.innerHTML = docLinkHtml;\n",
              "        element.appendChild(docLink);\n",
              "      }\n",
              "    </script>\n",
              "  </div>\n",
              "\n",
              "\n",
              "    <div id=\"df-6108afef-5c4d-4820-8053-127548adefd7\">\n",
              "      <button class=\"colab-df-quickchart\" onclick=\"quickchart('df-6108afef-5c4d-4820-8053-127548adefd7')\"\n",
              "                title=\"Suggest charts\"\n",
              "                style=\"display:none;\">\n",
              "\n",
              "<svg xmlns=\"http://www.w3.org/2000/svg\" height=\"24px\"viewBox=\"0 0 24 24\"\n",
              "     width=\"24px\">\n",
              "    <g>\n",
              "        <path d=\"M19 3H5c-1.1 0-2 .9-2 2v14c0 1.1.9 2 2 2h14c1.1 0 2-.9 2-2V5c0-1.1-.9-2-2-2zM9 17H7v-7h2v7zm4 0h-2V7h2v10zm4 0h-2v-4h2v4z\"/>\n",
              "    </g>\n",
              "</svg>\n",
              "      </button>\n",
              "\n",
              "<style>\n",
              "  .colab-df-quickchart {\n",
              "      --bg-color: #E8F0FE;\n",
              "      --fill-color: #1967D2;\n",
              "      --hover-bg-color: #E2EBFA;\n",
              "      --hover-fill-color: #174EA6;\n",
              "      --disabled-fill-color: #AAA;\n",
              "      --disabled-bg-color: #DDD;\n",
              "  }\n",
              "\n",
              "  [theme=dark] .colab-df-quickchart {\n",
              "      --bg-color: #3B4455;\n",
              "      --fill-color: #D2E3FC;\n",
              "      --hover-bg-color: #434B5C;\n",
              "      --hover-fill-color: #FFFFFF;\n",
              "      --disabled-bg-color: #3B4455;\n",
              "      --disabled-fill-color: #666;\n",
              "  }\n",
              "\n",
              "  .colab-df-quickchart {\n",
              "    background-color: var(--bg-color);\n",
              "    border: none;\n",
              "    border-radius: 50%;\n",
              "    cursor: pointer;\n",
              "    display: none;\n",
              "    fill: var(--fill-color);\n",
              "    height: 32px;\n",
              "    padding: 0;\n",
              "    width: 32px;\n",
              "  }\n",
              "\n",
              "  .colab-df-quickchart:hover {\n",
              "    background-color: var(--hover-bg-color);\n",
              "    box-shadow: 0 1px 2px rgba(60, 64, 67, 0.3), 0 1px 3px 1px rgba(60, 64, 67, 0.15);\n",
              "    fill: var(--button-hover-fill-color);\n",
              "  }\n",
              "\n",
              "  .colab-df-quickchart-complete:disabled,\n",
              "  .colab-df-quickchart-complete:disabled:hover {\n",
              "    background-color: var(--disabled-bg-color);\n",
              "    fill: var(--disabled-fill-color);\n",
              "    box-shadow: none;\n",
              "  }\n",
              "\n",
              "  .colab-df-spinner {\n",
              "    border: 2px solid var(--fill-color);\n",
              "    border-color: transparent;\n",
              "    border-bottom-color: var(--fill-color);\n",
              "    animation:\n",
              "      spin 1s steps(1) infinite;\n",
              "  }\n",
              "\n",
              "  @keyframes spin {\n",
              "    0% {\n",
              "      border-color: transparent;\n",
              "      border-bottom-color: var(--fill-color);\n",
              "      border-left-color: var(--fill-color);\n",
              "    }\n",
              "    20% {\n",
              "      border-color: transparent;\n",
              "      border-left-color: var(--fill-color);\n",
              "      border-top-color: var(--fill-color);\n",
              "    }\n",
              "    30% {\n",
              "      border-color: transparent;\n",
              "      border-left-color: var(--fill-color);\n",
              "      border-top-color: var(--fill-color);\n",
              "      border-right-color: var(--fill-color);\n",
              "    }\n",
              "    40% {\n",
              "      border-color: transparent;\n",
              "      border-right-color: var(--fill-color);\n",
              "      border-top-color: var(--fill-color);\n",
              "    }\n",
              "    60% {\n",
              "      border-color: transparent;\n",
              "      border-right-color: var(--fill-color);\n",
              "    }\n",
              "    80% {\n",
              "      border-color: transparent;\n",
              "      border-right-color: var(--fill-color);\n",
              "      border-bottom-color: var(--fill-color);\n",
              "    }\n",
              "    90% {\n",
              "      border-color: transparent;\n",
              "      border-bottom-color: var(--fill-color);\n",
              "    }\n",
              "  }\n",
              "</style>\n",
              "\n",
              "      <script>\n",
              "        async function quickchart(key) {\n",
              "          const quickchartButtonEl =\n",
              "            document.querySelector('#' + key + ' button');\n",
              "          quickchartButtonEl.disabled = true;  // To prevent multiple clicks.\n",
              "          quickchartButtonEl.classList.add('colab-df-spinner');\n",
              "          try {\n",
              "            const charts = await google.colab.kernel.invokeFunction(\n",
              "                'suggestCharts', [key], {});\n",
              "          } catch (error) {\n",
              "            console.error('Error during call to suggestCharts:', error);\n",
              "          }\n",
              "          quickchartButtonEl.classList.remove('colab-df-spinner');\n",
              "          quickchartButtonEl.classList.add('colab-df-quickchart-complete');\n",
              "        }\n",
              "        (() => {\n",
              "          let quickchartButtonEl =\n",
              "            document.querySelector('#df-6108afef-5c4d-4820-8053-127548adefd7 button');\n",
              "          quickchartButtonEl.style.display =\n",
              "            google.colab.kernel.accessAllowed ? 'block' : 'none';\n",
              "        })();\n",
              "      </script>\n",
              "    </div>\n",
              "\n",
              "    </div>\n",
              "  </div>\n"
            ],
            "application/vnd.google.colaboratory.intrinsic+json": {
              "type": "dataframe",
              "variable_name": "df",
              "repr_error": "0"
            }
          },
          "metadata": {},
          "execution_count": 28
        }
      ]
    },
    {
      "cell_type": "markdown",
      "source": [
        "#### Conversión de fechas a datetime"
      ],
      "metadata": {
        "id": "zDzRkNZeFBcP"
      }
    },
    {
      "cell_type": "markdown",
      "source": [
        "\n",
        "\n",
        "---\n",
        "\n"
      ],
      "metadata": {
        "id": "RDrXZANgIzSI"
      }
    },
    {
      "cell_type": "markdown",
      "source": [
        "Otra cosa a notar es que tanto date como time son del tipo object, lo cual no es conveniente al trabajar con fechas y tiempos, por lo que se convertirá a tipo datetime."
      ],
      "metadata": {
        "id": "dCDCIi1SGjS8"
      }
    },
    {
      "cell_type": "code",
      "source": [
        "df['Datetime'] = pd.to_datetime(df['Date'] + ' ' + df['Time'], errors='coerce')\n",
        "df.drop(['Date', 'Time'], axis=1, inplace=True)\n",
        "df.info()"
      ],
      "metadata": {
        "colab": {
          "base_uri": "https://localhost:8080/"
        },
        "id": "PaJ-eJF2G44S",
        "outputId": "1ab6181e-8b8c-408a-e040-68017702e36f"
      },
      "execution_count": 30,
      "outputs": [
        {
          "output_type": "stream",
          "name": "stdout",
          "text": [
            "<class 'pandas.core.frame.DataFrame'>\n",
            "Index: 93000 entries, 2 to 149999\n",
            "Data columns (total 14 columns):\n",
            " #   Column           Non-Null Count  Dtype         \n",
            "---  ------           --------------  -----         \n",
            " 0   Booking ID       93000 non-null  object        \n",
            " 1   Booking Status   93000 non-null  object        \n",
            " 2   Customer ID      93000 non-null  object        \n",
            " 3   Vehicle Type     93000 non-null  object        \n",
            " 4   Pickup Location  93000 non-null  object        \n",
            " 5   Drop Location    93000 non-null  object        \n",
            " 6   Avg VTAT         93000 non-null  float64       \n",
            " 7   Avg CTAT         93000 non-null  float64       \n",
            " 8   Booking Value    93000 non-null  float64       \n",
            " 9   Ride Distance    93000 non-null  float64       \n",
            " 10  Driver Ratings   93000 non-null  float64       \n",
            " 11  Customer Rating  93000 non-null  float64       \n",
            " 12  Payment Method   93000 non-null  object        \n",
            " 13  Datetime         93000 non-null  datetime64[ns]\n",
            "dtypes: datetime64[ns](1), float64(6), object(7)\n",
            "memory usage: 12.7+ MB\n"
          ]
        }
      ]
    },
    {
      "cell_type": "markdown",
      "source": [
        "Terminamos la limpieza de datos con esto, ya que ahora si logramos ver al final tenemos datetime como datetime."
      ],
      "metadata": {
        "id": "iEJpU7RJHUKo"
      }
    },
    {
      "cell_type": "markdown",
      "source": [
        "### Descarga del CSV limpio"
      ],
      "metadata": {
        "id": "bX0msWWXIR0G"
      }
    },
    {
      "cell_type": "markdown",
      "source": [
        "\n",
        "\n",
        "---\n",
        "\n"
      ],
      "metadata": {
        "id": "gztUSrNCI1GB"
      }
    },
    {
      "cell_type": "code",
      "source": [
        "df.to_csv('datos_limpios.csv', index=False)"
      ],
      "metadata": {
        "id": "szmmPOohIVbu"
      },
      "execution_count": 31,
      "outputs": []
    }
  ]
}